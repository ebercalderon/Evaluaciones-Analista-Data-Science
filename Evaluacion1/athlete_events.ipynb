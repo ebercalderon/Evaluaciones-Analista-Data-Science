{
  "cells": [
    {
      "cell_type": "markdown",
      "metadata": {
        "id": "AwNW3hwDx2At"
      },
      "source": [
        "# **Evaluacion 1**"
      ]
    },
    {
      "cell_type": "code",
      "execution_count": 1,
      "metadata": {},
      "outputs": [],
      "source": [
        "# IMPORTANDO LIBRERIAS\n",
        "import math\n",
        "import pandas as pd"
      ]
    },
    {
      "cell_type": "code",
      "execution_count": 2,
      "metadata": {},
      "outputs": [],
      "source": [
        "# LEYENDA LA DATA\n",
        "df = pd.read_csv('athlete_events.csv')"
      ]
    },
    {
      "cell_type": "code",
      "execution_count": 3,
      "metadata": {},
      "outputs": [],
      "source": [
        "# INGRESO POR TECLADO\n",
        "sports = df.Sport.unique()\n",
        "\n",
        "def validacion(texto):\n",
        "    while True:\n",
        "        sport = input(texto).strip()\n",
        "        return sport if sport in sports else print(\"Ingrese un deporte valido\")\n",
        "\n",
        "sportA = validacion(\"Ingrese un deporte: \")\n",
        "sportB = validacion(\"Ingrese otro deporte: \")\n",
        "\n",
        "# AMBOS DEPORTES PRESENTES\n",
        "listA = df.Year[df.Sport == sportA].unique()\n",
        "listB = df.Year[df.Sport == sportB].unique()\n",
        "\n",
        "listAB = sorted(list(set(listA) & set(listB)))"
      ]
    },
    {
      "cell_type": "code",
      "execution_count": 4,
      "metadata": {},
      "outputs": [
        {
          "name": "stdout",
          "output_type": "stream",
          "text": [
            "Año 1964 D: 0.6619 No hay diferencia significativa\n",
            "Año 1972 D: 1.3860 No hay diferencia significativa\n",
            "Año 1976 D: 3.3212 Hay diferencia significativa\n",
            "Año 1980 D: 0.8873 No hay diferencia significativa\n",
            "Año 1984 D: -1.1420 No hay diferencia significativa\n",
            "Año 1988 D: -5.4176 Hay diferencia significativa\n",
            "Año 1992 D: -8.5172 Hay diferencia significativa\n",
            "Año 1996 D: -3.9816 Hay diferencia significativa\n",
            "Año 2000 D: -3.4314 Hay diferencia significativa\n",
            "Año 2004 D: -2.4832 Hay diferencia significativa\n",
            "Año 2008 D: -3.6265 Hay diferencia significativa\n",
            "Año 2012 D: -0.5271 No hay diferencia significativa\n",
            "Año 2016 D: -1.1530 No hay diferencia significativa\n"
          ]
        }
      ],
      "source": [
        "# DETERMINAR ALTURAS\n",
        "for year in listAB:\n",
        "    \n",
        "    auxA = df.Height[(df.Year == year) & (df.Sport == 'Judo')].dropna()\n",
        "    auxB = df.Height[(df.Year == year) & (df.Sport == 'Football')].dropna()\n",
        "\n",
        "    result = (auxA.mean() - auxB.mean()) / math.sqrt((auxA.var() / auxA.count()) + (auxB.var() / auxB.count()))\n",
        "\n",
        "    print(\"Año \" + str(year) + \" D: \" + \"%.4f\" % result + (\" Hay diferencia significativa\" if abs(result) > 1.96 else \" No hay diferencia significativa\"))"
      ]
    }
  ],
  "metadata": {
    "colab": {
      "collapsed_sections": [],
      "provenance": []
    },
    "kernelspec": {
      "display_name": "Python 3.10.4 64-bit",
      "language": "python",
      "name": "python3"
    },
    "language_info": {
      "codemirror_mode": {
        "name": "ipython",
        "version": 3
      },
      "file_extension": ".py",
      "mimetype": "text/x-python",
      "name": "python",
      "nbconvert_exporter": "python",
      "pygments_lexer": "ipython3",
      "version": "3.10.4"
    },
    "vscode": {
      "interpreter": {
        "hash": "db19c031d8902179c06393866fd5abc41c1bd4c9e0ce553f383af4ae8b947d3b"
      }
    }
  },
  "nbformat": 4,
  "nbformat_minor": 0
}
